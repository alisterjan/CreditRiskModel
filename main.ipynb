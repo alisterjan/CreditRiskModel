{
 "cells": [
  {
   "cell_type": "markdown",
   "id": "84d58cb3-74e4-45f7-83aa-5a337795a262",
   "metadata": {},
   "source": [
    "## 1. Introduction"
   ]
  },
  {
   "cell_type": "markdown",
   "id": "200aabb6-8b27-4ba0-a517-e539be5229ba",
   "metadata": {},
   "source": [
    "## 2. Libraries"
   ]
  },
  {
   "cell_type": "code",
   "execution_count": 4,
   "id": "10fa929b-a7b4-4ae1-af03-0d4119abfc91",
   "metadata": {},
   "outputs": [],
   "source": [
    "#Import Libraries\n",
    "import pandas as pd\n",
    "import numpy as np\n",
    "import seaborn as sns\n",
    "import matplotlib.pyplot as plt"
   ]
  },
  {
   "cell_type": "code",
   "execution_count": 35,
   "id": "afec9fc5-36f8-4acb-96db-0a7b33eaf1c0",
   "metadata": {},
   "outputs": [],
   "source": [
    "#Import Data\n",
    "#df_credit = pd.read_csv(\"./input/german-credit-data-with-risk/german_credit_data.csv\", index_col=0)\n",
    "df_credit = pd.read_csv(\"./input/target/german_credit_data.csv\", index_col=0)"
   ]
  },
  {
   "cell_type": "markdown",
   "id": "dbf7ab6b-efeb-4f6d-937c-e765415bf47b",
   "metadata": {},
   "source": [
    "## 3. First Look at the Data"
   ]
  },
  {
   "cell_type": "markdown",
   "id": "6635f678-a707-462e-a1aa-35ab299201e4",
   "metadata": {},
   "source": [
    "Looking at the type of data  \n",
    "Null numbers  \n",
    "Unique Values  \n",
    "The First Rows of our dataset  "
   ]
  },
  {
   "cell_type": "code",
   "execution_count": 49,
   "id": "45b94c8d-87e3-4150-a33e-8d2efdecc526",
   "metadata": {},
   "outputs": [
    {
     "name": "stdout",
     "output_type": "stream",
     "text": [
      "<class 'pandas.core.frame.DataFrame'>\n",
      "Index: 1000 entries, 0 to 999\n",
      "Data columns (total 10 columns):\n",
      " #   Column            Non-Null Count  Dtype \n",
      "---  ------            --------------  ----- \n",
      " 0   Age               1000 non-null   int64 \n",
      " 1   Sex               1000 non-null   object\n",
      " 2   Job               1000 non-null   int64 \n",
      " 3   Housing           1000 non-null   object\n",
      " 4   Saving accounts   817 non-null    object\n",
      " 5   Checking account  606 non-null    object\n",
      " 6   Credit amount     1000 non-null   int64 \n",
      " 7   Duration          1000 non-null   int64 \n",
      " 8   Purpose           1000 non-null   object\n",
      " 9   Risk              1000 non-null   object\n",
      "dtypes: int64(4), object(6)\n",
      "memory usage: 85.9+ KB\n",
      "None\n"
     ]
    }
   ],
   "source": [
    "print(df_credit.info());"
   ]
  },
  {
   "cell_type": "code",
   "execution_count": 51,
   "id": "c27cdf53-c8eb-48bb-ba87-18941cf709e9",
   "metadata": {},
   "outputs": [
    {
     "name": "stdout",
     "output_type": "stream",
     "text": [
      "Age                  53\n",
      "Sex                   2\n",
      "Job                   4\n",
      "Housing               3\n",
      "Saving accounts       4\n",
      "Checking account      3\n",
      "Credit amount       921\n",
      "Duration             33\n",
      "Purpose               8\n",
      "Risk                  2\n",
      "dtype: int64\n"
     ]
    }
   ],
   "source": [
    "#looking unique values\n",
    "print(df_credit.nunique())"
   ]
  },
  {
   "cell_type": "code",
   "execution_count": 53,
   "id": "8a2b6e37-e8e0-4e7c-8d5b-6b3f565a4af0",
   "metadata": {
    "scrolled": true
   },
   "outputs": [
    {
     "name": "stdout",
     "output_type": "stream",
     "text": [
      "   Age     Sex  Job Housing Saving accounts Checking account  Credit amount  \\\n",
      "0   67    male    2     own             NaN           little           1169   \n",
      "1   22  female    2     own          little         moderate           5951   \n",
      "2   49    male    1     own          little              NaN           2096   \n",
      "3   45    male    2    free          little           little           7882   \n",
      "4   53    male    2    free          little           little           4870   \n",
      "\n",
      "   Duration              Purpose  Risk  \n",
      "0         6             radio/TV  good  \n",
      "1        48             radio/TV   bad  \n",
      "2        12            education  good  \n",
      "3        42  furniture/equipment  good  \n",
      "4        24                  car   bad  \n"
     ]
    }
   ],
   "source": [
    "print(df_credit.head())"
   ]
  },
  {
   "cell_type": "markdown",
   "id": "62640987-a286-40ab-ae72-5c089a0f4aab",
   "metadata": {},
   "source": [
    "## 4. Some Explorations"
   ]
  },
  {
   "cell_type": "markdown",
   "id": "02dc1f75-2dda-4161-9019-ba7212b720ee",
   "metadata": {},
   "source": [
    "* Starting by distribution of column Age\n",
    "* Some Seaborn graphical\n",
    "* Columns crossing"
   ]
  }
 ],
 "metadata": {
  "kernelspec": {
   "display_name": "Python [conda env:base] *",
   "language": "python",
   "name": "conda-base-py"
  },
  "language_info": {
   "codemirror_mode": {
    "name": "ipython",
    "version": 3
   },
   "file_extension": ".py",
   "mimetype": "text/x-python",
   "name": "python",
   "nbconvert_exporter": "python",
   "pygments_lexer": "ipython3",
   "version": "3.12.7"
  }
 },
 "nbformat": 4,
 "nbformat_minor": 5
}
